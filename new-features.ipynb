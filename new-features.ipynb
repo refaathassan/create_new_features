{
 "cells": [
  {
   "cell_type": "markdown",
   "metadata": {},
   "source": [
    "# project  : generate a new features and check if it will improve the model or not \n",
    "\n",
    "### import all library is necessary in our project"
   ]
  },
  {
   "cell_type": "code",
   "execution_count": 1,
   "metadata": {},
   "outputs": [],
   "source": [
    "# import the library you will use\n",
    "\n",
    "\n",
    "import numpy as np \n",
    "import pandas as pd \n",
    "from sklearn import svm\n",
    "from sklearn.metrics import hinge_loss\n",
    "from sklearn.preprocessing import StandardScaler"
   ]
  },
  {
   "cell_type": "markdown",
   "metadata": {},
   "source": [
    "## origanize the data\n",
    "\n",
    "#### the data shoud splite to the length of the columns"
   ]
  },
  {
   "cell_type": "code",
   "execution_count": 2,
   "metadata": {},
   "outputs": [],
   "source": [
    "def organize(traindata, testdata):\n",
    "# standardize traindata\n",
    "\n",
    "        traindata=traindata[0].str.split()\n",
    "        traindata=np.array(traindata.values)\n",
    "        n=np.zeros((len(traindata),len(traindata[1])))\n",
    "        for a in range(len(traindata)):\n",
    "            for d in range(len(traindata[a])):\n",
    "                n[a,d]=traindata[a][d]\n",
    "        traindata= n\n",
    "        \n",
    "# standardize testdata  \n",
    "\n",
    "        testdata=testdata[0].str.split()\n",
    "        testdata=np.array(testdata.values)\n",
    "        b=np.zeros((len(testdata),len(testdata[1])))\n",
    "        for a in range(len(testdata)):\n",
    "            for d in range(len(testdata[a])):\n",
    "                b[a,d]=testdata[a][d]\n",
    "        testdata = b \n",
    "        \n",
    "        return traindata, testdata"
   ]
  },
  {
   "cell_type": "markdown",
   "metadata": {},
   "source": [
    "## standardize the data\n",
    "#### make fuction to standardize the data to improve accuracy "
   ]
  },
  {
   "cell_type": "code",
   "execution_count": 3,
   "metadata": {},
   "outputs": [],
   "source": [
    "def standardize_data(traindata, testdata):\n",
    "        scaler = StandardScaler()\n",
    "# fit and transform the data\n",
    "        traindata[:,1:] = scaler.fit_transform(traindata[:,1:])\n",
    "# fit and transform the data\n",
    "        testdata[:,1:] = scaler.fit_transform(testdata[:,1:])\n",
    "        \n",
    "        \n",
    "        return traindata, testdata"
   ]
  },
  {
   "cell_type": "markdown",
   "metadata": {},
   "source": [
    "## loading the data \n",
    "#### loading the data and implement organize and standardize_data function"
   ]
  },
  {
   "cell_type": "code",
   "execution_count": 4,
   "metadata": {},
   "outputs": [
    {
     "name": "stdout",
     "output_type": "stream",
     "text": [
      "the traindata shape (511, 1)\n",
      "the testdata shape (58, 1)\n"
     ]
    }
   ],
   "source": [
    "# load the data\n",
    "traindata=pd.read_csv('bc.train.0.csv',header=None)\n",
    "testdata=pd.read_csv('bc.test.0.csv',header=None)\n",
    "[traindata_o, testdata_o] =organize(traindata,testdata)\n",
    "# use standardize data to organize the data\n",
    "[traindata_s, testdata_s] = standardize_data(traindata_o,testdata_o)\n",
    "\n",
    "#print the shape of data\n",
    "print('the traindata shape',np.shape(traindata))\n",
    "print('the testdata shape',np.shape(testdata))"
   ]
  },
  {
   "cell_type": "markdown",
   "metadata": {},
   "source": [
    "### split the data into features and labels to make it ready to inter to the model "
   ]
  },
  {
   "cell_type": "code",
   "execution_count": 5,
   "metadata": {},
   "outputs": [],
   "source": [
    "#split traindata into features and labels \n",
    "feature_1_o=traindata_o[:,1:]\n",
    "labels_1_o=traindata_o[:,0]\n",
    "#split testdata into features and labels \n",
    "feature_2_o=testdata_o[:,1:]\n",
    "labels_2_o=testdata_o[:,0]\n",
    "\n",
    "\n",
    "\n",
    "#split traindata into features and labels \n",
    "feature_1_s=traindata_s[:,1:]\n",
    "labels_1_s=traindata_s[:,0]\n",
    "#split testdata into features and labels \n",
    "feature_2_s=testdata_s[:,1:]\n",
    "labels_2_s=testdata_s[:,0]\n"
   ]
  },
  {
   "cell_type": "markdown",
   "metadata": {},
   "source": [
    "## produce new features \n",
    "#### do funstion to generat new features"
   ]
  },
  {
   "cell_type": "code",
   "execution_count": 6,
   "metadata": {},
   "outputs": [],
   "source": [
    "def new_features(feature,k):\n",
    "    z=[]\n",
    "    for i in range(k) :\n",
    "            # Create random vector wj where each w is uniformly sampled between -1 and 1\n",
    "            w= np.random.uniform(-1,1,len(feature[1]))\n",
    "\n",
    "            # Select w0 randomly between [smallest wTxj, largest wTxj]\n",
    "            X_WT= np.matmul(feature, w)\n",
    "            min_1=min(X_WT)\n",
    "            max_1=max(X_WT)\n",
    "            w0= np.random.uniform(min_1,max_1,len(X_WT))\n",
    "\n",
    "            # zi be Xw + w0\n",
    "            z_1=np.add(X_WT,w0)\n",
    "\n",
    "            # Append (1+sign(zi))/2 as new column to the right end of Z\n",
    "            z_1=(1+np.sign(z_1))/2\n",
    "            z.append(z_1)\n",
    "            z=np.array(z).T\n",
    "\n",
    "            return z\n"
   ]
  },
  {
   "cell_type": "markdown",
   "metadata": {},
   "source": [
    "### implment model to non standrize data "
   ]
  },
  {
   "cell_type": "code",
   "execution_count": 7,
   "metadata": {},
   "outputs": [
    {
     "data": {
      "text/plain": [
       "0.15630446241905516"
      ]
     },
     "execution_count": 7,
     "metadata": {},
     "output_type": "execute_result"
    }
   ],
   "source": [
    "#creat svm model\n",
    "est_1 = svm.LinearSVC(random_state=0)\n",
    "# fit the model \n",
    "est_1.fit(feature_1_o,labels_1_o)\n",
    "#make \n",
    "pred_decision_1 = est_1.decision_function(feature_2_o)\n",
    "hinge_loss(labels_2_o, pred_decision_1)"
   ]
  },
  {
   "cell_type": "markdown",
   "metadata": {},
   "source": [
    "### implment model to  standrize data "
   ]
  },
  {
   "cell_type": "code",
   "execution_count": 8,
   "metadata": {},
   "outputs": [
    {
     "data": {
      "text/plain": [
       "0.15630446241905516"
      ]
     },
     "execution_count": 8,
     "metadata": {},
     "output_type": "execute_result"
    }
   ],
   "source": [
    "#creat svm model\n",
    "est_2 = svm.LinearSVC(random_state=0)\n",
    "# fit the model \n",
    "est_2.fit(feature_1_s,labels_1_s)\n",
    "#make \n",
    "pred_decision_2 = est_2.decision_function(feature_2_s)\n",
    "hinge_loss(labels_2_s, pred_decision_2)"
   ]
  },
  {
   "cell_type": "markdown",
   "metadata": {},
   "source": [
    "### implement new_features function\n",
    "##### with 10 features "
   ]
  },
  {
   "cell_type": "code",
   "execution_count": 17,
   "metadata": {},
   "outputs": [
    {
     "data": {
      "text/plain": [
       "0.9634908247850433"
      ]
     },
     "execution_count": 17,
     "metadata": {},
     "output_type": "execute_result"
    }
   ],
   "source": [
    "\n",
    "z_1_s=new_features(feature_1_s,10)\n",
    "z_2_s=new_features(feature_2_s,10)\n",
    "#creat svm model\n",
    "est_3 = svm.LinearSVC(random_state=0)\n",
    "# fit the model \n",
    "est_3.fit(z_1_s,labels_1_s)\n",
    "#make \n",
    "pred_decision_3_1 = est_3.decision_function(z_2_s)\n",
    "hinge_loss(labels_2_s, pred_decision_3_1)"
   ]
  },
  {
   "cell_type": "markdown",
   "metadata": {},
   "source": [
    "##### with 100 features "
   ]
  },
  {
   "cell_type": "code",
   "execution_count": 18,
   "metadata": {},
   "outputs": [
    {
     "data": {
      "text/plain": [
       "0.9382738046902781"
      ]
     },
     "execution_count": 18,
     "metadata": {},
     "output_type": "execute_result"
    }
   ],
   "source": [
    "z_1_s=new_features(feature_1_s,100)\n",
    "z_2_s=new_features(feature_2_s,100)\n",
    "#creat svm model\n",
    "est_3 = svm.LinearSVC(random_state=0)\n",
    "# fit the model \n",
    "est_3.fit(z_1_s,labels_1_s)\n",
    "#make \n",
    "pred_decision_3_2 = est_3.decision_function(z_2_s)\n",
    "hinge_loss(labels_2_s, pred_decision_3_2)"
   ]
  },
  {
   "cell_type": "markdown",
   "metadata": {},
   "source": [
    "##### with 1000 features "
   ]
  },
  {
   "cell_type": "code",
   "execution_count": 19,
   "metadata": {},
   "outputs": [
    {
     "data": {
      "text/plain": [
       "0.9950922906686168"
      ]
     },
     "execution_count": 19,
     "metadata": {},
     "output_type": "execute_result"
    }
   ],
   "source": [
    "z_1_s=new_features(feature_1_s,1000)\n",
    "z_2_s=new_features(feature_2_s,1000)\n",
    "#creat svm model\n",
    "est_3 = svm.LinearSVC(random_state=0)\n",
    "# fit the model \n",
    "est_3.fit(z_1_s,labels_1_s)\n",
    "#make \n",
    "pred_decision_3_3 = est_3.decision_function(z_2_s)\n",
    "hinge_loss(labels_2_s, pred_decision_3_3)"
   ]
  },
  {
   "cell_type": "markdown",
   "metadata": {},
   "source": [
    "##### with 10000 features "
   ]
  },
  {
   "cell_type": "code",
   "execution_count": 20,
   "metadata": {},
   "outputs": [
    {
     "data": {
      "text/plain": [
       "0.9486187513558171"
      ]
     },
     "execution_count": 20,
     "metadata": {},
     "output_type": "execute_result"
    }
   ],
   "source": [
    "z_1_s=new_features(feature_1_s,10000)\n",
    "z_2_s=new_features(feature_2_s,10000)\n",
    "#creat svm model\n",
    "est_3 = svm.LinearSVC(random_state=0)\n",
    "# fit the model \n",
    "est_3.fit(z_1_s,labels_1_s)\n",
    "#make \n",
    "pred_decision_3_4 = est_3.decision_function(z_2_s)\n",
    "hinge_loss(labels_2_s, pred_decision_3_4)"
   ]
  },
  {
   "cell_type": "markdown",
   "metadata": {},
   "source": [
    "### create text file to write the predicte of orginal and standrized data "
   ]
  },
  {
   "cell_type": "code",
   "execution_count": 21,
   "metadata": {},
   "outputs": [],
   "source": [
    "s=[]\n",
    "s.append(pred_decision_1)\n",
    "s.append(pred_decision_2)\n",
    "s=np.array(s).T\n",
    "with open('original_output.txt', 'w') as f:\n",
    "    f.write('oputput for orginal data')\n",
    "    f.write('\\t')\n",
    "    f.write('oputput for standrize data')\n",
    "    f.write('\\n\\n\\n')\n",
    "    for v in range(len(s)):\n",
    "        f.write(str(s[v,0]))\n",
    "        f.write('\\t\\t')\n",
    "        f.write(str(s[v,1]))\n",
    "        f.write('\\n')"
   ]
  },
  {
   "cell_type": "markdown",
   "metadata": {},
   "source": [
    "### create text file to write the predicte of new features "
   ]
  },
  {
   "cell_type": "code",
   "execution_count": 14,
   "metadata": {},
   "outputs": [],
   "source": [
    "u=[]\n",
    "u.append(pred_decision_3_1)\n",
    "u.append(pred_decision_3_2)\n",
    "u.append(pred_decision_3_3)\n",
    "u.append(pred_decision_3_4)\n",
    "u=np.array(u).T\n",
    "with open('01space_output.txt', 'w') as f:\n",
    "    f.write('the ouptput of k=10')\n",
    "    f.write('\\t\\t')\n",
    "    f.write('the ouptput of k=100')\n",
    "    f.write('\\t\\t')\n",
    "    f.write('the ouptput of k=1000')\n",
    "    f.write('\\t\\t')\n",
    "    f.write('the ouptput of k=10000')\n",
    "    f.write('\\n\\n\\n')\n",
    "    for a in range(len(u)):\n",
    "        f.write(str(u[a,0]))\n",
    "        f.write('\\t\\t')\n",
    "        f.write(str(u[a,1]))\n",
    "        f.write('\\t\\t')\n",
    "        f.write(str(u[a,2]))\n",
    "        f.write('\\t\\t')\n",
    "        f.write(str(u[a,0]))\n",
    "        f.write('\\n')\n",
    "        "
   ]
  },
  {
   "cell_type": "code",
   "execution_count": null,
   "metadata": {},
   "outputs": [],
   "source": []
  }
 ],
 "metadata": {
  "kernelspec": {
   "display_name": "Python 3",
   "language": "python",
   "name": "python3"
  },
  "language_info": {
   "codemirror_mode": {
    "name": "ipython",
    "version": 3
   },
   "file_extension": ".py",
   "mimetype": "text/x-python",
   "name": "python",
   "nbconvert_exporter": "python",
   "pygments_lexer": "ipython3",
   "version": "3.7.3"
  }
 },
 "nbformat": 4,
 "nbformat_minor": 2
}
